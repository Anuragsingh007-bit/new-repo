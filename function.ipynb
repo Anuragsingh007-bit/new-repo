{
 "cells": [
  {
   "cell_type": "code",
   "execution_count": 1,
   "id": "82ba5467",
   "metadata": {},
   "outputs": [
    {
     "name": "stdout",
     "output_type": "stream",
     "text": [
      "this is my print\n"
     ]
    }
   ],
   "source": [
    "print(\"this is my print\")"
   ]
  },
  {
   "cell_type": "code",
   "execution_count": 1,
   "id": "7abfc9d9",
   "metadata": {},
   "outputs": [],
   "source": [
    "l = [324,45,45,45]"
   ]
  },
  {
   "cell_type": "code",
   "execution_count": 2,
   "id": "a3244336",
   "metadata": {},
   "outputs": [
    {
     "data": {
      "text/plain": [
       "4"
      ]
     },
     "execution_count": 2,
     "metadata": {},
     "output_type": "execute_result"
    }
   ],
   "source": [
    "len(l)"
   ]
  },
  {
   "cell_type": "code",
   "execution_count": 3,
   "id": "ae56d157",
   "metadata": {},
   "outputs": [
    {
     "data": {
      "text/plain": [
       "list"
      ]
     },
     "execution_count": 3,
     "metadata": {},
     "output_type": "execute_result"
    }
   ],
   "source": [
    "type(l)"
   ]
  },
  {
   "cell_type": "code",
   "execution_count": 4,
   "id": "d6bbe0f5",
   "metadata": {},
   "outputs": [],
   "source": [
    "def test():\n",
    "    pass"
   ]
  },
  {
   "cell_type": "code",
   "execution_count": 5,
   "id": "297ca532",
   "metadata": {},
   "outputs": [],
   "source": [
    "def test1():\n",
    "    print(\"this is my very very first function\")"
   ]
  },
  {
   "cell_type": "code",
   "execution_count": 7,
   "id": "b25ffc6a",
   "metadata": {},
   "outputs": [
    {
     "name": "stdout",
     "output_type": "stream",
     "text": [
      "this is my very very first function\n"
     ]
    }
   ],
   "source": [
    "test1()"
   ]
  },
  {
   "cell_type": "code",
   "execution_count": 8,
   "id": "6b38ad1a",
   "metadata": {},
   "outputs": [
    {
     "name": "stdout",
     "output_type": "stream",
     "text": [
      "this is my very very first function\n"
     ]
    }
   ],
   "source": [
    "test1()"
   ]
  },
  {
   "cell_type": "code",
   "execution_count": 9,
   "id": "14449ba6",
   "metadata": {},
   "outputs": [
    {
     "name": "stdout",
     "output_type": "stream",
     "text": [
      "this is my very very first function\n"
     ]
    },
    {
     "ename": "TypeError",
     "evalue": "unsupported operand type(s) for +: 'NoneType' and 'str'",
     "output_type": "error",
     "traceback": [
      "\u001b[31m---------------------------------------------------------------------------\u001b[39m",
      "\u001b[31mTypeError\u001b[39m                                 Traceback (most recent call last)",
      "\u001b[36mCell\u001b[39m\u001b[36m \u001b[39m\u001b[32mIn[9]\u001b[39m\u001b[32m, line 1\u001b[39m\n\u001b[32m----> \u001b[39m\u001b[32m1\u001b[39m \u001b[43mtest1\u001b[49m\u001b[43m(\u001b[49m\u001b[43m)\u001b[49m\u001b[43m \u001b[49m\u001b[43m+\u001b[49m\u001b[43m \u001b[49m\u001b[33;43m\"\u001b[39;49m\u001b[33;43msudh\u001b[39;49m\u001b[33;43m\"\u001b[39;49m\n",
      "\u001b[31mTypeError\u001b[39m: unsupported operand type(s) for +: 'NoneType' and 'str'"
     ]
    }
   ],
   "source": [
    "test1() + \"sudh\""
   ]
  },
  {
   "cell_type": "code",
   "execution_count": 10,
   "id": "c67b66ad",
   "metadata": {},
   "outputs": [],
   "source": [
    "def test2():\n",
    "    return \"this is my very first return \""
   ]
  },
  {
   "cell_type": "code",
   "execution_count": 11,
   "id": "5dc1c93c",
   "metadata": {},
   "outputs": [
    {
     "data": {
      "text/plain": [
       "'this is my very first return '"
      ]
     },
     "execution_count": 11,
     "metadata": {},
     "output_type": "execute_result"
    }
   ],
   "source": [
    "test2()"
   ]
  },
  {
   "cell_type": "code",
   "execution_count": 12,
   "id": "00a36cf2",
   "metadata": {},
   "outputs": [
    {
     "data": {
      "text/plain": [
       "'this is my very first return sudh'"
      ]
     },
     "execution_count": 12,
     "metadata": {},
     "output_type": "execute_result"
    }
   ],
   "source": [
    "test2() + \"sudh\""
   ]
  },
  {
   "cell_type": "code",
   "execution_count": 13,
   "id": "6e37bf5b",
   "metadata": {},
   "outputs": [],
   "source": [
    " def test3() :\n",
    "    \n",
    "        return \"sudh\" , 23, 345.56 , [1,2,3,3]"
   ]
  },
  {
   "cell_type": "code",
   "execution_count": 14,
   "id": "4a1b0d99",
   "metadata": {},
   "outputs": [
    {
     "data": {
      "text/plain": [
       "('sudh', 23, 345.56, [1, 2, 3, 3])"
      ]
     },
     "execution_count": 14,
     "metadata": {},
     "output_type": "execute_result"
    }
   ],
   "source": [
    "test3()"
   ]
  },
  {
   "cell_type": "code",
   "execution_count": 15,
   "id": "7ad499ff",
   "metadata": {},
   "outputs": [],
   "source": [
    "a,b,c,d = test3()"
   ]
  },
  {
   "cell_type": "code",
   "execution_count": 16,
   "id": "9bcb96aa",
   "metadata": {},
   "outputs": [
    {
     "data": {
      "text/plain": [
       "'sudh'"
      ]
     },
     "execution_count": 16,
     "metadata": {},
     "output_type": "execute_result"
    }
   ],
   "source": [
    "a"
   ]
  },
  {
   "cell_type": "code",
   "execution_count": 17,
   "id": "a53d9154",
   "metadata": {},
   "outputs": [
    {
     "data": {
      "text/plain": [
       "23"
      ]
     },
     "execution_count": 17,
     "metadata": {},
     "output_type": "execute_result"
    }
   ],
   "source": [
    "b"
   ]
  },
  {
   "cell_type": "code",
   "execution_count": 18,
   "id": "a380f343",
   "metadata": {},
   "outputs": [
    {
     "data": {
      "text/plain": [
       "345.56"
      ]
     },
     "execution_count": 18,
     "metadata": {},
     "output_type": "execute_result"
    }
   ],
   "source": [
    "c"
   ]
  },
  {
   "cell_type": "code",
   "execution_count": 19,
   "id": "419c5ccc",
   "metadata": {},
   "outputs": [
    {
     "data": {
      "text/plain": [
       "[1, 2, 3, 3]"
      ]
     },
     "execution_count": 19,
     "metadata": {},
     "output_type": "execute_result"
    }
   ],
   "source": [
    "d"
   ]
  },
  {
   "cell_type": "code",
   "execution_count": 20,
   "id": "1f9f7f82",
   "metadata": {},
   "outputs": [],
   "source": [
    "a= 1\n",
    "b = 4"
   ]
  },
  {
   "cell_type": "code",
   "execution_count": 21,
   "id": "02ff8392",
   "metadata": {},
   "outputs": [],
   "source": [
    "a , b = 1,4"
   ]
  },
  {
   "cell_type": "code",
   "execution_count": 22,
   "id": "ef074018",
   "metadata": {},
   "outputs": [],
   "source": [
    "def test4():\n",
    "    a = 5+6/7\n",
    "    return a"
   ]
  },
  {
   "cell_type": "code",
   "execution_count": 23,
   "id": "def3e6e9",
   "metadata": {},
   "outputs": [
    {
     "data": {
      "text/plain": [
       "5.857142857142857"
      ]
     },
     "execution_count": 23,
     "metadata": {},
     "output_type": "execute_result"
    }
   ],
   "source": [
    "test4()"
   ]
  },
  {
   "cell_type": "code",
   "execution_count": 24,
   "id": "75f62609",
   "metadata": {},
   "outputs": [
    {
     "data": {
      "text/plain": [
       "5.857142857142857"
      ]
     },
     "execution_count": 24,
     "metadata": {},
     "output_type": "execute_result"
    }
   ],
   "source": [
    "test4()"
   ]
  },
  {
   "cell_type": "code",
   "execution_count": 25,
   "id": "fad3aca8",
   "metadata": {},
   "outputs": [],
   "source": [
    "def test5(a, b ,c):\n",
    "    d = a+b/c\n",
    "    return d"
   ]
  },
  {
   "cell_type": "code",
   "execution_count": 26,
   "id": "d878cb20",
   "metadata": {},
   "outputs": [
    {
     "data": {
      "text/plain": [
       "4.833333333333333"
      ]
     },
     "execution_count": 26,
     "metadata": {},
     "output_type": "execute_result"
    }
   ],
   "source": [
    "test5(4,5,6)"
   ]
  },
  {
   "cell_type": "code",
   "execution_count": 27,
   "id": "d4208ab6",
   "metadata": {},
   "outputs": [
    {
     "ename": "TypeError",
     "evalue": "test5() missing 3 required positional arguments: 'a', 'b', and 'c'",
     "output_type": "error",
     "traceback": [
      "\u001b[31m---------------------------------------------------------------------------\u001b[39m",
      "\u001b[31mTypeError\u001b[39m                                 Traceback (most recent call last)",
      "\u001b[36mCell\u001b[39m\u001b[36m \u001b[39m\u001b[32mIn[27]\u001b[39m\u001b[32m, line 1\u001b[39m\n\u001b[32m----> \u001b[39m\u001b[32m1\u001b[39m \u001b[43mtest5\u001b[49m\u001b[43m(\u001b[49m\u001b[43m)\u001b[49m\n",
      "\u001b[31mTypeError\u001b[39m: test5() missing 3 required positional arguments: 'a', 'b', and 'c'"
     ]
    }
   ],
   "source": [
    "test5()"
   ]
  },
  {
   "cell_type": "code",
   "execution_count": 28,
   "id": "13ee36cb",
   "metadata": {},
   "outputs": [
    {
     "data": {
      "text/plain": [
       "2.625"
      ]
     },
     "execution_count": 28,
     "metadata": {},
     "output_type": "execute_result"
    }
   ],
   "source": [
    "test5(2,5,8)"
   ]
  },
  {
   "cell_type": "code",
   "execution_count": 29,
   "id": "9569a055",
   "metadata": {},
   "outputs": [],
   "source": [
    "def test6(a,b):\n",
    "    return a+b"
   ]
  },
  {
   "cell_type": "code",
   "execution_count": 30,
   "id": "321480ac",
   "metadata": {},
   "outputs": [
    {
     "data": {
      "text/plain": [
       "7"
      ]
     },
     "execution_count": 30,
     "metadata": {},
     "output_type": "execute_result"
    }
   ],
   "source": [
    "test6(3,4)"
   ]
  },
  {
   "cell_type": "code",
   "execution_count": 31,
   "id": "8d959293",
   "metadata": {},
   "outputs": [
    {
     "data": {
      "text/plain": [
       "'sudh kumar'"
      ]
     },
     "execution_count": 31,
     "metadata": {},
     "output_type": "execute_result"
    }
   ],
   "source": [
    "test6(\"sudh\" , \" kumar\")"
   ]
  },
  {
   "cell_type": "code",
   "execution_count": 32,
   "id": "74a4f630",
   "metadata": {},
   "outputs": [
    {
     "data": {
      "text/plain": [
       "[1, 2, 3, 4, 5, 4, 5, 6]"
      ]
     },
     "execution_count": 32,
     "metadata": {},
     "output_type": "execute_result"
    }
   ],
   "source": [
    "test6([1,2,3,4,5] , [4,5,6])"
   ]
  },
  {
   "cell_type": "code",
   "execution_count": 33,
   "id": "db9a8303",
   "metadata": {},
   "outputs": [],
   "source": [
    "l = [1,2,3,4,\"sudh\" , \"kumar\" ,[1,2,3,4,5,6]]"
   ]
  },
  {
   "cell_type": "code",
   "execution_count": 34,
   "id": "daed13d1",
   "metadata": {},
   "outputs": [],
   "source": [
    "l = [1,2,3,4,\"sudh\" , \"kumar\" ,[1,2,3,4,5,6]]"
   ]
  },
  {
   "cell_type": "code",
   "execution_count": 35,
   "id": "82159c14",
   "metadata": {},
   "outputs": [],
   "source": [
    "l1=[]\n",
    "for i in l:\n",
    "    if type(i)==int or type(i)==float:\n",
    "        l1.append(i)"
   ]
  },
  {
   "cell_type": "code",
   "execution_count": 36,
   "id": "3aec6e29",
   "metadata": {},
   "outputs": [
    {
     "data": {
      "text/plain": [
       "[1, 2, 3, 4]"
      ]
     },
     "execution_count": 36,
     "metadata": {},
     "output_type": "execute_result"
    }
   ],
   "source": [
    "l1"
   ]
  },
  {
   "cell_type": "code",
   "execution_count": 41,
   "id": "4a550896",
   "metadata": {},
   "outputs": [],
   "source": [
    "def test7(l):\n",
    "    l1=[]\n",
    "    for i in l:\n",
    "        if type(i)==int or type(i)==float:\n",
    "            l1.append(i)\n",
    "            return(l1)"
   ]
  },
  {
   "cell_type": "code",
   "execution_count": 42,
   "id": "eda2c0a2",
   "metadata": {},
   "outputs": [
    {
     "data": {
      "text/plain": [
       "[1, 2, 3, 4]"
      ]
     },
     "execution_count": 42,
     "metadata": {},
     "output_type": "execute_result"
    }
   ],
   "source": [
    "l1"
   ]
  },
  {
   "cell_type": "code",
   "execution_count": 43,
   "id": "9f7f426c",
   "metadata": {},
   "outputs": [],
   "source": [
    "def test7(l):\n",
    "    l1 = []\n",
    "    for i in l :\n",
    "        if type(i) == int or type(i) == float :\n",
    "            l1.append(i)\n",
    "    return l1\n"
   ]
  },
  {
   "cell_type": "code",
   "execution_count": 44,
   "id": "62f756c4",
   "metadata": {},
   "outputs": [
    {
     "data": {
      "text/plain": [
       "[1, 2, 3, 4]"
      ]
     },
     "execution_count": 44,
     "metadata": {},
     "output_type": "execute_result"
    }
   ],
   "source": [
    "test7(l)"
   ]
  },
  {
   "cell_type": "code",
   "execution_count": 45,
   "id": "0dbe9932",
   "metadata": {},
   "outputs": [
    {
     "data": {
      "text/plain": [
       "[1, 2, 3, 4, 'sudh', 'kumar', [1, 2, 3, 4, 5, 6]]"
      ]
     },
     "execution_count": 45,
     "metadata": {},
     "output_type": "execute_result"
    }
   ],
   "source": [
    "l"
   ]
  },
  {
   "cell_type": "code",
   "execution_count": 46,
   "id": "957e0b69",
   "metadata": {},
   "outputs": [],
   "source": [
    "def test8(a) :\n",
    "    l= []\n",
    "    for i in a :\n",
    "        if type(i) == list:\n",
    "            for j in i :\n",
    "                l.append(j)\n",
    "        else :\n",
    "            if type(i) == int or type(i) == float :\n",
    "                l.append(i)\n",
    "    return l\n"
   ]
  },
  {
   "cell_type": "code",
   "execution_count": 47,
   "id": "298c624b",
   "metadata": {},
   "outputs": [
    {
     "ename": "TypeError",
     "evalue": "test8() missing 1 required positional argument: 'a'",
     "output_type": "error",
     "traceback": [
      "\u001b[31m---------------------------------------------------------------------------\u001b[39m",
      "\u001b[31mTypeError\u001b[39m                                 Traceback (most recent call last)",
      "\u001b[36mCell\u001b[39m\u001b[36m \u001b[39m\u001b[32mIn[47]\u001b[39m\u001b[32m, line 1\u001b[39m\n\u001b[32m----> \u001b[39m\u001b[32m1\u001b[39m \u001b[43mtest8\u001b[49m\u001b[43m(\u001b[49m\u001b[43m)\u001b[49m\n",
      "\u001b[31mTypeError\u001b[39m: test8() missing 1 required positional argument: 'a'"
     ]
    }
   ],
   "source": [
    "test8()"
   ]
  },
  {
   "cell_type": "code",
   "execution_count": 48,
   "id": "fe411294",
   "metadata": {},
   "outputs": [
    {
     "data": {
      "text/plain": [
       "[1, 2, 3, 4, 1, 2, 3, 4, 5, 6]"
      ]
     },
     "execution_count": 48,
     "metadata": {},
     "output_type": "execute_result"
    }
   ],
   "source": [
    "test8(l)"
   ]
  },
  {
   "cell_type": "code",
   "execution_count": 49,
   "id": "4e58b41b",
   "metadata": {},
   "outputs": [
    {
     "data": {
      "text/plain": [
       "[1, 2, 3, 4, 'sudh', 'kumar', [1, 2, 3, 4, 5, 6]]"
      ]
     },
     "execution_count": 49,
     "metadata": {},
     "output_type": "execute_result"
    }
   ],
   "source": [
    "l"
   ]
  },
  {
   "cell_type": "code",
   "execution_count": 51,
   "id": "49f657cf",
   "metadata": {},
   "outputs": [
    {
     "data": {
      "text/plain": [
       "[1, 2, 3, 4, 1, 2, 3, 4, 5, 6]"
      ]
     },
     "execution_count": 51,
     "metadata": {},
     "output_type": "execute_result"
    }
   ],
   "source": [
    "test8(l)"
   ]
  },
  {
   "cell_type": "code",
   "execution_count": 52,
   "id": "805ab39d",
   "metadata": {},
   "outputs": [],
   "source": [
    "def test9(a) :\n",
    "    \"\"\"this is my function to extract num data from list\"\"\"\n",
    "\n",
    "    l= []\n",
    "    for i in a :\n",
    "        if type(i) == list:\n",
    "            for j in i :\n",
    "                l.append(j)\n",
    "        else :\n",
    "            if type(i) == int or type(i) == float :\n",
    "                l.append(i)\n",
    "    return l\n"
   ]
  },
  {
   "cell_type": "code",
   "execution_count": 53,
   "id": "6200c9a2",
   "metadata": {},
   "outputs": [
    {
     "ename": "TypeError",
     "evalue": "test9() missing 1 required positional argument: 'a'",
     "output_type": "error",
     "traceback": [
      "\u001b[31m---------------------------------------------------------------------------\u001b[39m",
      "\u001b[31mTypeError\u001b[39m                                 Traceback (most recent call last)",
      "\u001b[36mCell\u001b[39m\u001b[36m \u001b[39m\u001b[32mIn[53]\u001b[39m\u001b[32m, line 1\u001b[39m\n\u001b[32m----> \u001b[39m\u001b[32m1\u001b[39m \u001b[43mtest9\u001b[49m\u001b[43m(\u001b[49m\u001b[43m)\u001b[49m\n",
      "\u001b[31mTypeError\u001b[39m: test9() missing 1 required positional argument: 'a'"
     ]
    }
   ],
   "source": [
    "test9()"
   ]
  },
  {
   "cell_type": "code",
   "execution_count": 54,
   "id": "19c47580",
   "metadata": {},
   "outputs": [],
   "source": [
    "def test10(a,b):\n",
    "    return a+b"
   ]
  },
  {
   "cell_type": "code",
   "execution_count": 55,
   "id": "df009b60",
   "metadata": {},
   "outputs": [],
   "source": [
    "def test11(*args):\n",
    "    return args"
   ]
  },
  {
   "cell_type": "code",
   "execution_count": 56,
   "id": "0f878a4e",
   "metadata": {},
   "outputs": [
    {
     "data": {
      "text/plain": [
       "tuple"
      ]
     },
     "execution_count": 56,
     "metadata": {},
     "output_type": "execute_result"
    }
   ],
   "source": [
    "type(test11())"
   ]
  },
  {
   "cell_type": "code",
   "execution_count": 57,
   "id": "53e30060",
   "metadata": {},
   "outputs": [
    {
     "data": {
      "text/plain": [
       "(1, 2, 3)"
      ]
     },
     "execution_count": 57,
     "metadata": {},
     "output_type": "execute_result"
    }
   ],
   "source": [
    "test11(1,2,3)"
   ]
  },
  {
   "cell_type": "code",
   "execution_count": 58,
   "id": "eb431cfb",
   "metadata": {},
   "outputs": [
    {
     "data": {
      "text/plain": [
       "(1, 2, 3, 'sudh', 'kumar', [1, 2, 3, 4, 4])"
      ]
     },
     "execution_count": 58,
     "metadata": {},
     "output_type": "execute_result"
    }
   ],
   "source": [
    "test11(1,2,3,\"sudh\" , \"kumar\" , [1,2,3,4,4])"
   ]
  },
  {
   "cell_type": "code",
   "execution_count": 59,
   "id": "ccf67f70",
   "metadata": {},
   "outputs": [],
   "source": [
    "def test12(*sudh):\n",
    "    return sudh"
   ]
  },
  {
   "cell_type": "code",
   "execution_count": 60,
   "id": "8a0441e6",
   "metadata": {},
   "outputs": [
    {
     "data": {
      "text/plain": [
       "(1, 2, 34, 4)"
      ]
     },
     "execution_count": 60,
     "metadata": {},
     "output_type": "execute_result"
    }
   ],
   "source": [
    "test12(1,2,34,4)"
   ]
  },
  {
   "cell_type": "code",
   "execution_count": 61,
   "id": "262f1ffb",
   "metadata": {},
   "outputs": [],
   "source": [
    "def test13(*args , a) :\n",
    "    return args , a"
   ]
  },
  {
   "cell_type": "code",
   "execution_count": 62,
   "id": "5f75f15f",
   "metadata": {},
   "outputs": [
    {
     "ename": "TypeError",
     "evalue": "test13() missing 1 required keyword-only argument: 'a'",
     "output_type": "error",
     "traceback": [
      "\u001b[31m---------------------------------------------------------------------------\u001b[39m",
      "\u001b[31mTypeError\u001b[39m                                 Traceback (most recent call last)",
      "\u001b[36mCell\u001b[39m\u001b[36m \u001b[39m\u001b[32mIn[62]\u001b[39m\u001b[32m, line 1\u001b[39m\n\u001b[32m----> \u001b[39m\u001b[32m1\u001b[39m \u001b[43mtest13\u001b[49m\u001b[43m(\u001b[49m\u001b[32;43m1\u001b[39;49m\u001b[43m,\u001b[49m\u001b[32;43m2\u001b[39;49m\u001b[43m,\u001b[49m\u001b[32;43m3\u001b[39;49m\u001b[43m,\u001b[49m\u001b[32;43m4\u001b[39;49m\u001b[43m,\u001b[49m\u001b[32;43m5\u001b[39;49m\u001b[43m,\u001b[49m\u001b[32;43m6\u001b[39;49m\u001b[43m)\u001b[49m\n",
      "\u001b[31mTypeError\u001b[39m: test13() missing 1 required keyword-only argument: 'a'"
     ]
    }
   ],
   "source": [
    "test13(1,2,3,4,5,6)"
   ]
  },
  {
   "cell_type": "code",
   "execution_count": 63,
   "id": "0c3c2829",
   "metadata": {},
   "outputs": [
    {
     "data": {
      "text/plain": [
       "((1, 2, 3, 4), 23)"
      ]
     },
     "execution_count": 63,
     "metadata": {},
     "output_type": "execute_result"
    }
   ],
   "source": [
    "test13(1,2,3,4 , a = 23)"
   ]
  },
  {
   "cell_type": "code",
   "execution_count": 64,
   "id": "3065443f",
   "metadata": {},
   "outputs": [],
   "source": [
    "def test14(c,d,a = 23 , b = 1 ):\n",
    "    return a,b,c,d"
   ]
  },
  {
   "cell_type": "code",
   "execution_count": 65,
   "id": "a9e22bf2",
   "metadata": {},
   "outputs": [
    {
     "ename": "TypeError",
     "evalue": "test14() missing 2 required positional arguments: 'c' and 'd'",
     "output_type": "error",
     "traceback": [
      "\u001b[31m---------------------------------------------------------------------------\u001b[39m",
      "\u001b[31mTypeError\u001b[39m                                 Traceback (most recent call last)",
      "\u001b[36mCell\u001b[39m\u001b[36m \u001b[39m\u001b[32mIn[65]\u001b[39m\u001b[32m, line 1\u001b[39m\n\u001b[32m----> \u001b[39m\u001b[32m1\u001b[39m \u001b[43mtest14\u001b[49m\u001b[43m(\u001b[49m\u001b[43m)\u001b[49m\n",
      "\u001b[31mTypeError\u001b[39m: test14() missing 2 required positional arguments: 'c' and 'd'"
     ]
    }
   ],
   "source": [
    "test14()"
   ]
  },
  {
   "cell_type": "code",
   "execution_count": 66,
   "id": "6a2ae457",
   "metadata": {},
   "outputs": [
    {
     "data": {
      "text/plain": [
       "(23, 1, 3, 4)"
      ]
     },
     "execution_count": 66,
     "metadata": {},
     "output_type": "execute_result"
    }
   ],
   "source": [
    "test14(3,4)"
   ]
  },
  {
   "cell_type": "code",
   "execution_count": 67,
   "id": "70e7a06a",
   "metadata": {},
   "outputs": [
    {
     "data": {
      "text/plain": [
       "(2342, 1, 2, 5)"
      ]
     },
     "execution_count": 67,
     "metadata": {},
     "output_type": "execute_result"
    }
   ],
   "source": [
    "test14(2,5 , a = 2342)"
   ]
  },
  {
   "cell_type": "code",
   "execution_count": 69,
   "id": "4530c19d",
   "metadata": {},
   "outputs": [],
   "source": [
    "def test15(**kwargs):\n",
    "    return kwargs"
   ]
  },
  {
   "cell_type": "code",
   "execution_count": 71,
   "id": "a1b10e18",
   "metadata": {},
   "outputs": [
    {
     "data": {
      "text/plain": [
       "{}"
      ]
     },
     "execution_count": 71,
     "metadata": {},
     "output_type": "execute_result"
    }
   ],
   "source": [
    "test15()"
   ]
  },
  {
   "cell_type": "code",
   "execution_count": 72,
   "id": "6838d56d",
   "metadata": {},
   "outputs": [
    {
     "data": {
      "text/plain": [
       "dict"
      ]
     },
     "execution_count": 72,
     "metadata": {},
     "output_type": "execute_result"
    }
   ],
   "source": [
    "type(test15())"
   ]
  },
  {
   "cell_type": "code",
   "execution_count": 73,
   "id": "d271fa95",
   "metadata": {},
   "outputs": [
    {
     "data": {
      "text/plain": [
       "dict"
      ]
     },
     "execution_count": 73,
     "metadata": {},
     "output_type": "execute_result"
    }
   ],
   "source": [
    "type(test15())"
   ]
  },
  {
   "cell_type": "code",
   "execution_count": 74,
   "id": "200ca4f2",
   "metadata": {},
   "outputs": [
    {
     "data": {
      "text/plain": [
       "{'a': [1, 2, 3, 4], 'b': 'sudh', 'c': 23.45}"
      ]
     },
     "execution_count": 74,
     "metadata": {},
     "output_type": "execute_result"
    }
   ],
   "source": [
    "test15(a = [1,2,3,4] , b = \"sudh\" , c = 23.45 )"
   ]
  },
  {
   "cell_type": "code",
   "execution_count": 75,
   "id": "f76c2f9a",
   "metadata": {},
   "outputs": [
    {
     "data": {
      "text/plain": [
       "range(0, 10)"
      ]
     },
     "execution_count": 75,
     "metadata": {},
     "output_type": "execute_result"
    }
   ],
   "source": [
    "range(10)"
   ]
  },
  {
   "cell_type": "code",
   "execution_count": 76,
   "id": "c462f698",
   "metadata": {},
   "outputs": [
    {
     "name": "stdout",
     "output_type": "stream",
     "text": [
      "0\n",
      "1\n",
      "2\n",
      "3\n",
      "4\n",
      "5\n",
      "6\n",
      "7\n",
      "8\n",
      "9\n"
     ]
    }
   ],
   "source": [
    "for i in range(10):\n",
    "    print(i)"
   ]
  },
  {
   "cell_type": "code",
   "execution_count": 77,
   "id": "c7fe1369",
   "metadata": {},
   "outputs": [],
   "source": [
    "def test_fib(n):\n",
    "    a,b = 0,1\n",
    "    for i in range(n):\n",
    "        yield a\n",
    "        a,b = b , a+b"
   ]
  },
  {
   "cell_type": "code",
   "execution_count": 78,
   "id": "2569a541",
   "metadata": {},
   "outputs": [
    {
     "name": "stdout",
     "output_type": "stream",
     "text": [
      "0\n",
      "1\n",
      "1\n",
      "2\n",
      "3\n",
      "5\n",
      "8\n",
      "13\n",
      "21\n",
      "34\n",
      "55\n",
      "89\n",
      "144\n",
      "233\n",
      "377\n",
      "610\n",
      "987\n",
      "1597\n",
      "2584\n",
      "4181\n",
      "6765\n",
      "10946\n"
     ]
    }
   ],
   "source": [
    "for i in test_fib(22):\n",
    "    print(i)\n"
   ]
  },
  {
   "cell_type": "code",
   "execution_count": 79,
   "id": "6ff9d32e",
   "metadata": {},
   "outputs": [],
   "source": [
    "def test_fib1():\n",
    "    a,b = 0,1\n",
    "    while True:\n",
    "        yield a\n",
    "        a,b = b , a+b"
   ]
  },
  {
   "cell_type": "code",
   "execution_count": 80,
   "id": "cb20bbfa",
   "metadata": {},
   "outputs": [],
   "source": [
    "fib = test_fib1()\n"
   ]
  },
  {
   "cell_type": "code",
   "execution_count": 81,
   "id": "9492611d",
   "metadata": {},
   "outputs": [
    {
     "name": "stdout",
     "output_type": "stream",
     "text": [
      "<generator object test_fib1 at 0x000002023EB57440>\n"
     ]
    }
   ],
   "source": [
    "print(fib)"
   ]
  },
  {
   "cell_type": "code",
   "execution_count": 82,
   "id": "7a3536f5",
   "metadata": {},
   "outputs": [
    {
     "name": "stdout",
     "output_type": "stream",
     "text": [
      "0\n",
      "1\n",
      "1\n",
      "2\n",
      "3\n",
      "5\n",
      "8\n",
      "13\n",
      "21\n",
      "34\n"
     ]
    }
   ],
   "source": [
    "for i in range(10):\n",
    "    print(next(fib))"
   ]
  },
  {
   "cell_type": "code",
   "execution_count": 83,
   "id": "85707046",
   "metadata": {},
   "outputs": [],
   "source": [
    "s = \"sudh\""
   ]
  },
  {
   "cell_type": "code",
   "execution_count": 84,
   "id": "70b4900a",
   "metadata": {},
   "outputs": [
    {
     "name": "stdout",
     "output_type": "stream",
     "text": [
      "s\n",
      "u\n",
      "d\n",
      "h\n"
     ]
    }
   ],
   "source": [
    "for i in s :\n",
    "    print(i)"
   ]
  },
  {
   "cell_type": "code",
   "execution_count": 85,
   "id": "ec0dfdad",
   "metadata": {},
   "outputs": [
    {
     "data": {
      "text/plain": [
       "'sudh'"
      ]
     },
     "execution_count": 85,
     "metadata": {},
     "output_type": "execute_result"
    }
   ],
   "source": [
    "s"
   ]
  },
  {
   "cell_type": "code",
   "execution_count": 86,
   "id": "dee220cd",
   "metadata": {},
   "outputs": [
    {
     "ename": "TypeError",
     "evalue": "'str' object is not an iterator",
     "output_type": "error",
     "traceback": [
      "\u001b[31m---------------------------------------------------------------------------\u001b[39m",
      "\u001b[31mTypeError\u001b[39m                                 Traceback (most recent call last)",
      "\u001b[36mCell\u001b[39m\u001b[36m \u001b[39m\u001b[32mIn[86]\u001b[39m\u001b[32m, line 1\u001b[39m\n\u001b[32m----> \u001b[39m\u001b[32m1\u001b[39m \u001b[38;5;28;43mnext\u001b[39;49m\u001b[43m(\u001b[49m\u001b[43ms\u001b[49m\u001b[43m)\u001b[49m\n",
      "\u001b[31mTypeError\u001b[39m: 'str' object is not an iterator"
     ]
    }
   ],
   "source": [
    "next(s)"
   ]
  },
  {
   "cell_type": "code",
   "execution_count": 88,
   "id": "5e8671dc",
   "metadata": {},
   "outputs": [],
   "source": [
    "s1 = iter(s)"
   ]
  },
  {
   "cell_type": "code",
   "execution_count": 89,
   "id": "1d9c6c48",
   "metadata": {},
   "outputs": [
    {
     "data": {
      "text/plain": [
       "str_ascii_iterator"
      ]
     },
     "execution_count": 89,
     "metadata": {},
     "output_type": "execute_result"
    }
   ],
   "source": [
    "type(s1)"
   ]
  },
  {
   "cell_type": "code",
   "execution_count": 90,
   "id": "87f3b4ae",
   "metadata": {},
   "outputs": [
    {
     "data": {
      "text/plain": [
       "'s'"
      ]
     },
     "execution_count": 90,
     "metadata": {},
     "output_type": "execute_result"
    }
   ],
   "source": [
    "next(s1)"
   ]
  },
  {
   "cell_type": "code",
   "execution_count": 91,
   "id": "97e697aa",
   "metadata": {},
   "outputs": [
    {
     "name": "stdout",
     "output_type": "stream",
     "text": [
      "heloo\n"
     ]
    }
   ],
   "source": [
    "print(\"heloo\")"
   ]
  },
  {
   "cell_type": "code",
   "execution_count": null,
   "id": "53f9e583",
   "metadata": {},
   "outputs": [],
   "source": []
  }
 ],
 "metadata": {
  "kernelspec": {
   "display_name": "Python 3",
   "language": "python",
   "name": "python3"
  },
  "language_info": {
   "codemirror_mode": {
    "name": "ipython",
    "version": 3
   },
   "file_extension": ".py",
   "mimetype": "text/x-python",
   "name": "python",
   "nbconvert_exporter": "python",
   "pygments_lexer": "ipython3",
   "version": "3.13.2"
  }
 },
 "nbformat": 4,
 "nbformat_minor": 5
}
